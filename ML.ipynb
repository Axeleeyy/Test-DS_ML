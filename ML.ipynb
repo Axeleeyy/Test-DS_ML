{
 "cells": [
  {
   "cell_type": "code",
   "execution_count": 17,
   "metadata": {},
   "outputs": [],
   "source": [
    "import numpy as np\n",
    "import pandas as pd\n",
    "from sklearn.model_selection import cross_val_score, train_test_split\n",
    "from sklearn.ensemble import RandomForestClassifier\n",
    "from sklearn.metrics import accuracy_score, classification_report\n",
    "from sklearn.model_selection import RandomizedSearchCV, GridSearchCV\n",
    "\n",
    "data = pd.read_csv('data/train.csv')\n",
    "\n",
    "# 2. Разделение данных на признаки (X) и целевую переменную (y)\n",
    "X = data.drop('Cover_Type', axis=1)  \n",
    "y = data['Cover_Type']\n",
    "\n",
    "X_train, X_test, y_train, y_test = train_test_split(X, y, test_size=0.2, random_state=42) \n",
    "\n",
    "# 4. Выбор модели\n",
    "model = RandomForestClassifier(random_state=42, n_jobs=-1)"
   ]
  },
  {
   "cell_type": "code",
   "execution_count": 6,
   "metadata": {},
   "outputs": [],
   "source": [
    "data_ = data\n",
    "\n",
    "a = []\n",
    "for i in range(len(data)):\n",
    "    for x in range(1, 5):\n",
    "        if data[\"Wilderness_Area\" + str(x)][i]:\n",
    "            a.append(x-1)\n",
    "\n",
    "for x in range(1, 5):\n",
    "    data_ = data_.drop(\"Wilderness_Area\" + str(x), axis=1)\n",
    "\n",
    "data_['Wilderness_Area'] = a\n",
    "\n",
    "a.clear()\n",
    "for i in range(len(data)):\n",
    "    for x in range(1, 41):\n",
    "        if data[\"Soil_Type\" + str(x)][i]:\n",
    "            a.append(x-1)\n",
    "\n",
    "for x in range(1, 41):\n",
    "    data_ = data_.drop(\"Soil_Type\" + str(x), axis=1)\n",
    "\n",
    "data_['Soil_Type'] = a"
   ]
  },
  {
   "cell_type": "code",
   "execution_count": 7,
   "metadata": {},
   "outputs": [],
   "source": [
    "X_new = data_.drop('Cover_Type', axis=1)  \n",
    "X_new_train, X_new_test, y_train, y_test = train_test_split(X, y, test_size=0.2, random_state=42) \n"
   ]
  },
  {
   "cell_type": "code",
   "execution_count": 18,
   "metadata": {},
   "outputs": [],
   "source": [
    "\n",
    "# 6. Обучение модели\n",
    "model.fit(X_train, y_train)\n",
    "score = model.score(X_test, y_test)\n"
   ]
  },
  {
   "cell_type": "code",
   "execution_count": 19,
   "metadata": {},
   "outputs": [],
   "source": [
    "\n",
    "# 5. Кросс-валидация\n",
    "# Используем 5-кратную кросс-валидацию\n",
    "cv_scores = cross_val_score(model, X_train, y_train, cv=5, scoring='accuracy', n_jobs=-1)\n",
    "\n"
   ]
  },
  {
   "cell_type": "code",
   "execution_count": 20,
   "metadata": {},
   "outputs": [
    {
     "name": "stdout",
     "output_type": "stream",
     "text": [
      "Test accuracy: 0.8753\n",
      "Cross-validation scores: [0.85289256 0.86771393 0.86027284 0.85407193 0.86068623]\n",
      "Mean CV accuracy: 0.8591\n",
      "Max CV accuracy: 0.8677\n",
      "Min CV accuracy: 0.8529\n"
     ]
    }
   ],
   "source": [
    "\n",
    "print(f'Test accuracy: {score:.4f}')\n",
    "\n",
    "\n",
    "# Вывод результатов кросс-валидации\n",
    "print(f'Cross-validation scores: {cv_scores}')\n",
    "print(f'Mean CV accuracy: {np.mean(cv_scores):.4f}')\n",
    "print(f'Max CV accuracy: {np.max(cv_scores):.4f}')\n",
    "print(f'Min CV accuracy: {np.min(cv_scores):.4f}')\n",
    "\n"
   ]
  },
  {
   "cell_type": "code",
   "execution_count": 21,
   "metadata": {},
   "outputs": [
    {
     "name": "stdout",
     "output_type": "stream",
     "text": [
      "Лучшие гиперпараметры: {'n_estimators': 200, 'min_samples_split': 5, 'min_samples_leaf': 2, 'max_depth': 60}\n",
      "Тестовая точность: 0.8703703703703703\n"
     ]
    }
   ],
   "source": [
    "\n",
    "param_grid = {\n",
    "    'n_estimators': range(50, 201, 50),\n",
    "    'max_depth': [10, 35, 60, 85, 110],\n",
    "    'min_samples_split': [2, 3, 4, 5],\n",
    "    'min_samples_leaf': [2, 3, 4, 5]\n",
    "}\n",
    "\"\"\"\"\"\"\n",
    "\n",
    "# Настройка RandomizedSearchCV\n",
    "random_search = RandomizedSearchCV(estimator=model, param_distributions=param_grid,\n",
    "                                   n_iter=10, cv=5, scoring='accuracy', n_jobs=-1, \n",
    "                                   random_state=42)\n",
    "\n",
    "# Обучение модели\n",
    "random_search.fit(X_train, y_train)\n",
    "\n",
    "# Лучшие гиперпараметры\n",
    "print(\"Лучшие гиперпараметры:\", random_search.best_params_)\n",
    "\n",
    "# Оценка на тестовой выборке\n",
    "best_model = random_search.best_estimator_\n",
    "test_accuracy = best_model.score(X_test, y_test)\n",
    "print(\"Тестовая точность:\", test_accuracy)\n"
   ]
  },
  {
   "cell_type": "code",
   "execution_count": 22,
   "metadata": {},
   "outputs": [
    {
     "name": "stdout",
     "output_type": "stream",
     "text": [
      "Тестовая точность: 0.8707010582010583\n"
     ]
    }
   ],
   "source": [
    "best_model = RandomForestClassifier(**random_search.best_params_)\n",
    "best_model.fit(X_train, y_train)\n",
    "test_accuracy = best_model.score(X_test, y_test)\n",
    "print(\"Тестовая точность:\", test_accuracy)"
   ]
  },
  {
   "cell_type": "code",
   "execution_count": 23,
   "metadata": {},
   "outputs": [
    {
     "name": "stdout",
     "output_type": "stream",
     "text": [
      "Cross-validation scores: [0.84338843 0.85985945 0.85241835 0.84125672 0.8495246 ]\n",
      "Mean CV accuracy: 0.8493\n",
      "Max CV accuracy: 0.8599\n",
      "Min CV accuracy: 0.8413\n"
     ]
    }
   ],
   "source": [
    "cv_scores_best = cross_val_score(best_model, X_train, y_train, cv=5, scoring='accuracy')\n",
    "\n",
    "# Вывод результатов кросс-валидации\n",
    "print(f'Cross-validation scores: {cv_scores_best}')\n",
    "print(f'Mean CV accuracy: {np.mean(cv_scores_best):.4f}')\n",
    "print(f'Max CV accuracy: {np.max(cv_scores_best):.4f}')\n",
    "print(f'Min CV accuracy: {np.min(cv_scores_best):.4f}')\n"
   ]
  },
  {
   "cell_type": "code",
   "execution_count": 24,
   "metadata": {},
   "outputs": [
    {
     "name": "stdout",
     "output_type": "stream",
     "text": [
      "Тестовая точность: 0.8707010582010583\n"
     ]
    }
   ],
   "source": [
    "test_accuracy = best_model.score(X_test, y_test)\n",
    "print(\"Тестовая точность:\", test_accuracy)"
   ]
  },
  {
   "cell_type": "code",
   "execution_count": 30,
   "metadata": {},
   "outputs": [
    {
     "name": "stdout",
     "output_type": "stream",
     "text": [
      "Лучшие гиперпараметры: {'max_leaf_nodes': 40, 'max_iter': 250, 'max_depth': 15, 'learning_rate': np.float64(0.08999999999999998)}\n",
      "Тестовая точность: 0.8839285714285714\n"
     ]
    }
   ],
   "source": [
    "from sklearn.ensemble import GradientBoostingClassifier, HistGradientBoostingClassifier\n",
    "\n",
    "# Создание модели градиентного бустинга\n",
    "\"\"\"model = HistGradientBoostingClassifier(\n",
    "    n_estimators=100,  # Количество деревьев\n",
    "    learning_rate=0.2,  # Скорость обучения\n",
    "    max_depth=3,       # Максимальная глубина каждого дерева\n",
    "    random_state=42, \n",
    "    n_jobs=-1\n",
    ")\"\"\"\n",
    "\n",
    "param_grid = {\n",
    "    'learning_rate': list(np.arange(0.01, 0.11, 0.02)),\n",
    "    'max_iter': range(50, 301, 50),\n",
    "    'max_leaf_nodes': range(16, 41, 4),\n",
    "    'max_depth': [None]+list(range(10, 31, 5))\n",
    "}\n",
    "\"\"\"\"\"\"\n",
    "\n",
    "# Настройка RandomizedSearchCV\n",
    "model = HistGradientBoostingClassifier(random_state=42) \n",
    "\n",
    "random_search = RandomizedSearchCV(estimator=model, param_distributions=param_grid,\n",
    "                                   n_iter=10, cv=5, scoring='accuracy', n_jobs=-1, \n",
    "                                   random_state=42)\n",
    "\n",
    "random_search.fit(X_train, y_train)\n",
    "\n",
    "# Лучшие гиперпараметры\n",
    "print(\"Лучшие гиперпараметры:\", random_search.best_params_)\n",
    "\n",
    "# Оценка на тестовой выборке\n",
    "best_model = random_search.best_estimator_\n",
    "test_accuracy = best_model.score(X_test, y_test)\n",
    "print(\"Тестовая точность:\", test_accuracy)\n",
    "\n"
   ]
  },
  {
   "cell_type": "code",
   "execution_count": 13,
   "metadata": {},
   "outputs": [
    {
     "name": "stdout",
     "output_type": "stream",
     "text": [
      "RandomForest: Средняя точность = 0.8592102808687423\n",
      "GradientBoosting: Средняя точность = 0.8073742991947359\n",
      "SVC: Средняя точность = 0.5470402358737133\n"
     ]
    }
   ],
   "source": [
    "from sklearn.svm import SVC\n",
    "\n",
    "models = {\n",
    "    'RandomForest': RandomForestClassifier(),\n",
    "    'GradientBoosting': GradientBoostingClassifier(),\n",
    "    'SVC': SVC()\n",
    "}\n",
    "\n",
    "for name, model in models.items():\n",
    "    scores = cross_val_score(model, X_train, y_train, cv=5)\n",
    "    print(f\"{name}: Средняя точность = {scores.mean()}\")\n"
   ]
  },
  {
   "cell_type": "code",
   "execution_count": 14,
   "metadata": {},
   "outputs": [
    {
     "name": "stdout",
     "output_type": "stream",
     "text": [
      "Средняя точность ансамбля: 0.8278778882059727\n"
     ]
    }
   ],
   "source": [
    "from sklearn.ensemble import VotingClassifier\n",
    "\n",
    "ensemble_model = VotingClassifier(estimators=[\n",
    "    ('rf', RandomForestClassifier()),\n",
    "    ('gb', GradientBoostingClassifier()),\n",
    "    ('svc', SVC(probability=True))\n",
    "], voting='soft')\n",
    "\n",
    "scores = cross_val_score(ensemble_model, X_train, y_train, cv=5)\n",
    "print(\"Средняя точность ансамбля:\", scores.mean())"
   ]
  },
  {
   "cell_type": "code",
   "execution_count": null,
   "metadata": {},
   "outputs": [],
   "source": []
  }
 ],
 "metadata": {
  "kernelspec": {
   "display_name": "Python 3",
   "language": "python",
   "name": "python3"
  },
  "language_info": {
   "codemirror_mode": {
    "name": "ipython",
    "version": 3
   },
   "file_extension": ".py",
   "mimetype": "text/x-python",
   "name": "python",
   "nbconvert_exporter": "python",
   "pygments_lexer": "ipython3",
   "version": "3.12.7"
  }
 },
 "nbformat": 4,
 "nbformat_minor": 2
}
