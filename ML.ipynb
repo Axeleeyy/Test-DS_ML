{
 "cells": [
  {
   "cell_type": "markdown",
   "metadata": {},
   "source": [
    "# Построение модели машинного обучения"
   ]
  },
  {
   "cell_type": "code",
   "execution_count": 1,
   "metadata": {},
   "outputs": [],
   "source": [
    "# Подключение необходимых библиотек\n",
    "import numpy as np\n",
    "import pandas as pd\n",
    "from sklearn.model_selection import cross_val_score, train_test_split\n",
    "from sklearn.ensemble import RandomForestClassifier\n",
    "from sklearn.metrics import accuracy_score, classification_report, precision_score, recall_score\n",
    "from sklearn.model_selection import RandomizedSearchCV, GridSearchCV\n",
    "\n",
    "# Получение данных\n",
    "data = pd.read_csv('data/train.csv')\n"
   ]
  },
  {
   "cell_type": "markdown",
   "metadata": {},
   "source": [
    "Преобразование столбцов Wilderness_Area и Soil_Type. "
   ]
  },
  {
   "cell_type": "code",
   "execution_count": 2,
   "metadata": {},
   "outputs": [],
   "source": [
    "# data_ будет содержать стобцы с номерами столбцов из старой таблицы с единицами\n",
    "data_ = data\n",
    "\n",
    "# вспомогательный массив для хранения номеров\n",
    "a = []\n",
    "\n",
    "# стурктура для получения номеров столбцов с единицами\n",
    "for i in range(len(data)):\n",
    "    for x in range(1, 5):\n",
    "        if data[\"Wilderness_Area\" + str(x)][i]:\n",
    "            a.append(x)\n",
    "\n",
    "# удаление всех бинарных столбцов\n",
    "for x in range(1, 5):\n",
    "    data_ = data_.drop(\"Wilderness_Area\" + str(x), axis=1)\n",
    "\n",
    "# добавление одного столбца с номерами \n",
    "data_['Wilderness_Area'] = a\n",
    "\n",
    "\n",
    "# вторая аналогичная часть для Soil_Type\n",
    "a.clear()\n",
    "for i in range(len(data)):\n",
    "    for x in range(1, 41):\n",
    "        if data[\"Soil_Type\" + str(x)][i]:\n",
    "            a.append(x)\n",
    "\n",
    "for x in range(1, 41):\n",
    "    data_ = data_.drop(\"Soil_Type\" + str(x), axis=1)\n",
    "\n",
    "data_['Soil_Type'] = a\n",
    "\n",
    "data = data_\n"
   ]
  },
  {
   "cell_type": "code",
   "execution_count": 3,
   "metadata": {},
   "outputs": [],
   "source": [
    "# Разделение данных на признаки (X) и целевую переменную (y)\n",
    "X = data.drop('Cover_Type', axis=1)  \n",
    "X = X.drop('Id', axis=1)\n",
    "y = data['Cover_Type']\n",
    "\n",
    "# Разделение данных на тренировочную и тестовую выборку\n",
    "X_train, X_test, y_train, y_test = train_test_split(X, y, test_size=0.2, random_state=1) \n",
    "\n",
    "# Выбор модели со стандартными гиперпараметрами\n",
    "model = RandomForestClassifier(random_state=1, n_jobs=-1)"
   ]
  },
  {
   "cell_type": "markdown",
   "metadata": {},
   "source": [
    "Для оценки качества будем использовать метрику accuracy, которая показывает сколько прогнозов было угадано. \n",
    "Целевые значения столбца Cover_Type могут принимать значения от 1 до 7."
   ]
  },
  {
   "cell_type": "code",
   "execution_count": 4,
   "metadata": {},
   "outputs": [
    {
     "name": "stdout",
     "output_type": "stream",
     "text": [
      "Default hyperparameters\n",
      "              precision    recall  f1-score   support\n",
      "\n",
      "           1      0.751     0.728     0.739       434\n",
      "           2      0.798     0.672     0.730       458\n",
      "           3      0.880     0.835     0.857       437\n",
      "           4      0.946     0.973     0.959       447\n",
      "           5      0.895     0.957     0.925       418\n",
      "           6      0.832     0.903     0.866       411\n",
      "           7      0.895     0.959     0.926       419\n",
      "\n",
      "    accuracy                          0.859      3024\n",
      "   macro avg      0.857     0.861     0.857      3024\n",
      "weighted avg      0.856     0.859     0.856      3024\n",
      "\n",
      "Accuracy: 0.859\n",
      "Precision: 0.857\n",
      "Recall: 0.861\n"
     ]
    }
   ],
   "source": [
    "# Обучение модели\n",
    "model.fit(X_train, y_train)\n",
    "print('Default hyperparameters')\n",
    "\n",
    "print(classification_report(y_test, model.predict(X_test),digits=3))\n",
    "\n",
    "print(f'Accuracy: {accuracy_score(y_test, model.predict(X_test)):.3f}')\n",
    "print(f'Precision: {precision_score(y_test, model.predict(X_test),average=None).mean():.3f}')\n",
    "print(f'Recall: {recall_score(y_test, model.predict(X_test),average=None).mean():.3f}')"
   ]
  },
  {
   "cell_type": "code",
   "execution_count": 5,
   "metadata": {},
   "outputs": [
    {
     "name": "stdout",
     "output_type": "stream",
     "text": [
      "cross-validation score\n",
      "Accuracy: 0.850\n",
      "Precision: 0.847\n",
      "Recall: 0.849\n"
     ]
    }
   ],
   "source": [
    "# проведём поиск гиперпараметров с использованием кроссвалидации\n",
    "model = RandomForestClassifier(random_state=1, n_jobs=-1)\n",
    "\n",
    "\n",
    "accuracy_score_val = cross_val_score(model, X_train, y_train, cv=5, scoring='accuracy', n_jobs=-1).mean()\n",
    "precision_score_val = cross_val_score(model, X_train, y_train, cv=5, scoring='precision_macro', n_jobs=-1).mean()\n",
    "recall_score_val = cross_val_score(model, X_train, y_train, cv=5, scoring='recall_macro', n_jobs=-1).mean()\n",
    "\n",
    "\n",
    "print('cross-validation score')\n",
    "print(f'Accuracy: {accuracy_score_val:.3f}')\n",
    "print(f'Precision: {precision_score_val:.3f}')\n",
    "print(f'Recall: {recall_score_val:.3f}')"
   ]
  },
  {
   "cell_type": "code",
   "execution_count": null,
   "metadata": {},
   "outputs": [
    {
     "name": "stdout",
     "output_type": "stream",
     "text": [
      "cross-validation accuracy score with better HP\n",
      "cross-validation score\n",
      "Accuracy: 0.858\n",
      "Precision: 0.856\n",
      "Recall: 0.858\n"
     ]
    }
   ],
   "source": [
    "# изменим bootstrap и warm_start на противоположные \n",
    "model = RandomForestClassifier(bootstrap=False,warm_start=True, random_state=1)\n",
    "\n",
    "print('cross-validation accuracy score with better HP')\n",
    "\n",
    "accuracy_score_val = cross_val_score(model, X_train, y_train, cv=5, scoring='accuracy', n_jobs=-1).mean()\n",
    "precision_score_val = cross_val_score(model, X_train, y_train, cv=5, scoring='precision_macro', n_jobs=-1).mean()\n",
    "recall_score_val = cross_val_score(model, X_train, y_train, cv=5, scoring='recall_macro', n_jobs=-1).mean()\n",
    "\n",
    "print('cross-validation score')\n",
    "print(f'Accuracy: {accuracy_score_val:.3f}')\n",
    "print(f'Precision: {precision_score_val:.3f}')\n",
    "print(f'Recall: {recall_score_val:.3f}')"
   ]
  },
  {
   "cell_type": "code",
   "execution_count": 7,
   "metadata": {},
   "outputs": [
    {
     "name": "stdout",
     "output_type": "stream",
     "text": [
      "n_estimators: 200 accuracy: 0.861\n",
      "n_estimators: 300 accuracy: 0.862\n",
      "n_estimators: 400 accuracy: 0.861\n",
      "n_estimators: 500 accuracy: 0.861\n"
     ]
    }
   ],
   "source": [
    "# попытаемся улучшить за счёт увеличения n_estimators\n",
    "max_score = 0.\n",
    "max_score_n = 100\n",
    "for n in range(200, 501, 100):\n",
    "    model = RandomForestClassifier(n_estimators=n,bootstrap=False,warm_start=True, random_state=1)\n",
    "    score = cross_val_score(model, X=X_train, y=y_train, cv=5,scoring='accuracy', n_jobs=-1)\n",
    "    print(f'n_estimators: {n} accuracy: {round(score.mean(),3)}')\n",
    "    if max_score < round(score.mean(),3):\n",
    "        max_score_n = n\n",
    "        max_score = round(score.mean(),3)"
   ]
  },
  {
   "cell_type": "code",
   "execution_count": null,
   "metadata": {},
   "outputs": [
    {
     "name": "stdout",
     "output_type": "stream",
     "text": [
      "Score with better HP\n",
      "              precision    recall  f1-score   support\n",
      "\n",
      "           1      0.775     0.744     0.759       434\n",
      "           2      0.786     0.705     0.743       458\n",
      "           3      0.875     0.863     0.869       437\n",
      "           4      0.950     0.973     0.961       447\n",
      "           5      0.904     0.947     0.925       418\n",
      "           6      0.873     0.917     0.894       411\n",
      "           7      0.920     0.959     0.939       419\n",
      "\n",
      "    accuracy                          0.871      3024\n",
      "   macro avg      0.869     0.873     0.870      3024\n",
      "weighted avg      0.868     0.871     0.869      3024\n",
      "\n",
      "Accuracy: 0.871\n",
      "Precision: 0.869\n",
      "Recall: 0.873\n"
     ]
    }
   ],
   "source": [
    "best_model = RandomForestClassifier(n_estimators=max_score_n, bootstrap=False,warm_start=True,random_state=1)\n",
    "best_model.fit(X_train, y_train)\n",
    "\n",
    "print('Score with better HP')\n",
    "\n",
    "print(classification_report(y_test, best_model.predict(X_test),digits=3))\n",
    "\n",
    "print(f'Accuracy: {accuracy_score(y_test, best_model.predict(X_test)):.3f}')\n",
    "print(f'Precision: {precision_score(y_test, best_model.predict(X_test),average=None).mean():.3f}')\n",
    "print(f'Recall: {recall_score(y_test, best_model.predict(X_test),average=None).mean():.3f}')"
   ]
  },
  {
   "cell_type": "markdown",
   "metadata": {},
   "source": [
    "За счёт изменения гиперпараметров метрику accuracy удалось изменить с 0.859 до 0.871.\n",
    "\n",
    "Остальные метрики не имеют выбросов, что говорит об отсутсвии переобучения или недообучения."
   ]
  },
  {
   "cell_type": "markdown",
   "metadata": {},
   "source": [
    "----------------------------"
   ]
  },
  {
   "cell_type": "markdown",
   "metadata": {},
   "source": [
    "Проведём интерпретацию полученных результатов.\n",
    "\n",
    "Рассмотрим ключевые признаки, которые больше всего влияют на результаты предсказания модели."
   ]
  },
  {
   "cell_type": "code",
   "execution_count": 9,
   "metadata": {},
   "outputs": [
    {
     "name": "stdout",
     "output_type": "stream",
     "text": [
      "                                    importance\n",
      "Elevation                             0.251888\n",
      "Soil_Type                             0.165804\n",
      "Horizontal_Distance_To_Roadways       0.099699\n",
      "Horizontal_Distance_To_Fire_Points    0.081122\n",
      "Wilderness_Area                       0.066116\n",
      "Horizontal_Distance_To_Hydrology      0.064579\n",
      "Hillshade_9am                         0.053808\n",
      "Vertical_Distance_To_Hydrology        0.052045\n",
      "Aspect                                0.049336\n",
      "Hillshade_3pm                         0.042736\n",
      "Hillshade_Noon                        0.042490\n",
      "Slope                                 0.030377\n"
     ]
    },
    {
     "data": {
      "text/plain": [
       "<Axes: >"
      ]
     },
     "execution_count": 9,
     "metadata": {},
     "output_type": "execute_result"
    },
    {
     "data": {
      "image/png": "[encoded data removed]",
      "text/plain": [
       "<Figure size 1200x800 with 1 Axes>"
      ]
     },
     "metadata": {},
     "output_type": "display_data"
    }
   ],
   "source": [
    "imp = pd.DataFrame(best_model.feature_importances_, index=X_train.columns, columns=['importance'])\n",
    "print(imp.sort_values('importance')[::-1])\n",
    "imp.sort_values('importance').plot(kind='barh', figsize=(12, 8))"
   ]
  },
  {
   "cell_type": "markdown",
   "metadata": {},
   "source": [
    "Как видно из графика, признаки Elevation и Soil_Type являются наиболее влиятельными и их важность в предсказании составляет суммарно более 40%. \n",
    "\n",
    "Признаки Slope, Hillshade_Noon, Hillshade_3pm и Aspect являются самыми незначительными (менее 5% каждый). \n",
    "Это можно использовать для оптимизации модели, а именно уменьшению количества незначительных параметров или их объединение. \n",
    "\n",
    "Также данная модель уже была оптимизирована за счёт объединения бинарных признаков в один со значением номера, который описывает нужную характеристику. \n",
    "\n",
    "Данная модель может давать ошибки в случае низкого качества данных, отсутвия данных или выбросов. Данную проблему можно решить уже приведёнными в другом задании способами. \n",
    "\n",
    "Так же ошибки будут при неправильном вводе данных, при котором модель неправильно использует полученные данные и сделает гарантировано ошибку."
   ]
  },
  {
   "cell_type": "markdown",
   "metadata": {},
   "source": [
    "----------------"
   ]
  },
  {
   "cell_type": "markdown",
   "metadata": {},
   "source": [
    "Оптимизация гиперпараметров при помощи Random Search"
   ]
  },
  {
   "cell_type": "code",
   "execution_count": 10,
   "metadata": {},
   "outputs": [
    {
     "name": "stdout",
     "output_type": "stream",
     "text": [
      "Best HP: {'warm_start': False, 'n_estimators': 700, 'min_samples_leaf': 1, 'max_features': 5, 'bootstrap': False}\n",
      "Best accuracy: 0.8648\n",
      "Test accuracy: 0.8726851851851852\n"
     ]
    }
   ],
   "source": [
    "\n",
    "\n",
    "param_grid = {\n",
    "    'n_estimators': range(300, 701, 100),\n",
    "    'bootstrap': [True, False],\n",
    "    'warm_start': [False, True],\n",
    "    'max_features': ['sqrt', 'log2']+list(range(3, 9)),\n",
    "    'min_samples_leaf': range(1, 8)\n",
    "    \n",
    "}\n",
    "\n",
    "model = RandomForestClassifier(n_estimators=max_score_n, bootstrap=False,warm_start=True,random_state=1)\n",
    "\n",
    "# Настройка RandomizedSearchCV\n",
    "\n",
    "random_search = RandomizedSearchCV(estimator=model, param_distributions=param_grid,\n",
    "                                   n_iter=16, cv=5, scoring='accuracy', n_jobs=-1, \n",
    "                                   random_state=1)\n",
    "\n",
    "\n",
    "# Обучение модели\n",
    "random_search.fit(X_train, y_train)\n",
    "\n",
    "# Лучшие гиперпараметры\n",
    "print(\"Best HP:\", random_search.best_params_)\n",
    "print(f'Best accuracy: {random_search.best_score_:.4f}')\n",
    "# Оценка на тестовой выборке\n",
    "rs_best_model = random_search.best_estimator_\n",
    "test_accuracy = rs_best_model.score(X_test, y_test)\n",
    "print(\"Test accuracy:\", test_accuracy)\n"
   ]
  },
  {
   "cell_type": "markdown",
   "metadata": {},
   "source": [
    "Данная настройка гиперпараметров показала, что параметр max_features и изменение его на значение 5 вместо стандартного sqrt может не значительно увеличить значение точности: с 0.871 до 0.873.\n",
    "\n",
    "В остальном подобранные параметры примерно аналогичные. "
   ]
  },
  {
   "cell_type": "markdown",
   "metadata": {},
   "source": [
    "-----\n"
   ]
  },
  {
   "cell_type": "markdown",
   "metadata": {},
   "source": [
    "Сохранение для использовании ее в API."
   ]
  },
  {
   "cell_type": "code",
   "execution_count": 11,
   "metadata": {},
   "outputs": [
    {
     "data": {
      "text/plain": [
       "['data/model.pkl']"
      ]
     },
     "execution_count": 11,
     "metadata": {},
     "output_type": "execute_result"
    }
   ],
   "source": [
    "import joblib\n",
    "\n",
    "# сохранение модели для дельнейшего использования\n",
    "joblib.dump(best_model, 'data/model.pkl')"
   ]
  }
 ],
 "metadata": {
  "kernelspec": {
   "display_name": "Python 3",
   "language": "python",
   "name": "python3"
  },
  "language_info": {
   "codemirror_mode": {
    "name": "ipython",
    "version": 3
   },
   "file_extension": ".py",
   "mimetype": "text/x-python",
   "name": "python",
   "nbconvert_exporter": "python",
   "pygments_lexer": "ipython3",
   "version": "3.12.7"
  }
 },
 "nbformat": 4,
 "nbformat_minor": 2
}
